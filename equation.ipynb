{
 "cells": [
  {
   "cell_type": "markdown",
   "metadata": {},
   "source": [
    "## Cara Menulis Formula Matematika di JupyterLab\n",
    "\n",
    "Hints: Gunakan __LaTeX__ di dalam sel __Markdown__ di __JupyterLab__"
   ]
  },
  {
   "cell_type": "markdown",
   "metadata": {},
   "source": [
    "Andi pergi ke sekolah pagi-pagi untuk belajar Matematika. Andi belajar tentang Phytagoras, rumusnya adalah c2 = a2 + b2.\n",
    "\n",
    "Andi pergi ke sekolah pagi-pagi untuk belajar Matematika. Andi belajar tentang Phytagoras, rumusnya adalah $c^2 = a^2 + b^2$. Andi pun senang.\n",
    "\n",
    "$$x = y + z$$"
   ]
  },
  {
   "cell_type": "markdown",
   "metadata": {},
   "source": [
    "### Simbol & Operator"
   ]
  },
  {
   "cell_type": "markdown",
   "metadata": {},
   "source": [
    "- Variable\n",
    "\n",
    "    $x y z$\n",
    "\n",
    "    $x \\ y \\ z$\n",
    "    \n",
    "    $x \\ \\ y \\ \\ z$\n",
    "    \n",
    "    $x \\\\ y \\\\ z$"
   ]
  },
  {
   "cell_type": "markdown",
   "metadata": {},
   "source": [
    "- Accent\n",
    "\n",
    "    $x^2 \\ \\ x_i \\ \\ \\bar{x} \\ \\ \\hat{x} \\ \\ \\vec{x} \\ \\ \\dot{x} \\ \\ \\ddot{x}$"
   ]
  },
  {
   "cell_type": "markdown",
   "metadata": {},
   "source": [
    "- Operator\n",
    "\n",
    "    $+ \\ \\ - \\ \\ \\pm \\ \\ * \\ \\ \\times \\ \\ \\cdot \\ \\ / \\ \\ \\div \\ \\ \\frac{x}{y} \\ \\ ^x / _y$"
   ]
  },
  {
   "cell_type": "markdown",
   "metadata": {},
   "source": [
    "- Relation\n",
    "\n",
    "    $= \\ \\ \\equiv \\ \\ \\sim \\ \\ \\simeq \\ \\ \\approx$\n",
    "    \n",
    "    $> \\ \\ < \\ \\ \\geq \\ \\ \\leq \\ \\ \\neq$\n",
    "    \n",
    "    $\\cup \\ \\ \\cap \\ \\ \\in \\ \\ \\notin \\ \\ \\forall \\ \\ \\exists$"
   ]
  },
  {
   "cell_type": "markdown",
   "metadata": {},
   "source": [
    "- Yunani\n",
    "\n",
    "    $\\alpha \\ \\ \\beta \\ \\ \\gamma \\ \\ \\Gamma \\ \\ \\delta \\ \\ \\Delta \\ \\ \\epsilon \\ \\ \\zeta \\ \\ \\eta \\ \\ \\theta \\ \\ \\Theta \\ \\ \\lambda \\ \\ \\mu \\ \\ \\pi \\ \\ \\rho$"
   ]
  },
  {
   "cell_type": "markdown",
   "metadata": {},
   "source": [
    "- Arrows\n",
    "\n",
    "    $\\leftarrow \\ \\ \\rightarrow \\ \\ \\uparrow \\ \\ \\downarrow \\ \\ \\Leftarrow \\ \\ \\Rightarrow \\ \\ \\Uparrow \\ \\ \\Downarrow$"
   ]
  },
  {
   "cell_type": "markdown",
   "metadata": {},
   "source": [
    "- Lain-lain\n",
    "\n",
    "    $\\heartsuit \\ \\ \\spadesuit \\ \\ \\diamondsuit \\ \\ \\clubsuit$\n",
    "    \n",
    "    $\\infty \\ \\ \\nabla \\ \\ \\angle \\ \\ \\angle{A}$"
   ]
  },
  {
   "cell_type": "markdown",
   "metadata": {},
   "source": [
    "### Matriks"
   ]
  },
  {
   "cell_type": "markdown",
   "metadata": {},
   "source": [
    "- Basic Matriks\n",
    "\n",
    "    $\n",
    "    \\begin{matrix}\n",
    "    1 & 0 \\\\\n",
    "    0 & 1\n",
    "    \\end{matrix}\n",
    "    $\n",
    "    \n",
    "- Bracket Matriks\n",
    "\n",
    "    $\n",
    "    \\begin{bmatrix}\n",
    "    1 & 0 \\\\\n",
    "    0 & 1\n",
    "    \\end{bmatrix}\n",
    "    $\n",
    "    \n",
    "- Parenthesis Matriks\n",
    "\n",
    "    $\n",
    "    \\begin{pmatrix}\n",
    "    1 & 0 & 2 \\\\\n",
    "    0 & 1 & 3 \\\\\n",
    "    1 & 1 & 0\n",
    "    \\end{pmatrix}\n",
    "    $\n",
    "    \n",
    "- Vertical Line Matriks\n",
    "\n",
    "    $\n",
    "    \\begin{vmatrix}\n",
    "    1 & 0 \\\\\n",
    "    0 & 1\n",
    "    \\end{vmatrix}\n",
    "    $"
   ]
  },
  {
   "cell_type": "markdown",
   "metadata": {},
   "source": [
    "### Function"
   ]
  },
  {
   "cell_type": "markdown",
   "metadata": {},
   "source": [
    "- Roots\n",
    "\n",
    "    $\\sqrt{x} \\ \\ \\sqrt[3]{x} \\ \\ \\sqrt[a]{x}$"
   ]
  },
  {
   "cell_type": "markdown",
   "metadata": {},
   "source": [
    "- Trigonometri\n",
    "\n",
    "    $\\sin(x) \\ \\ \\sin(\\theta) \\ \\ \\cos(\\theta) \\ \\ \\tan(\\theta) \\ \\ \\sec(\\theta) \\ \\ \\csc(\\theta) \\ \\ \\cot(\\theta)$"
   ]
  },
  {
   "cell_type": "markdown",
   "metadata": {},
   "source": [
    "- Limit\n",
    "\n",
    "    $\\lim \\ \\ \\lim e^{-x} \\ \\ \\lim\\limits_{x \\to \\infty} e^{-x}$"
   ]
  },
  {
   "cell_type": "markdown",
   "metadata": {},
   "source": [
    "- Logaritma\n",
    "\n",
    "    $\\log{x} \\ \\ ^{2} \\log{x} \\ \\ ^{e} \\log{x} = \\ln{x}$"
   ]
  },
  {
   "cell_type": "markdown",
   "metadata": {},
   "source": [
    "- Sum\n",
    "\n",
    "    $\\sum x \\ \\ \\sum_{i=0}^{10} t_i$"
   ]
  },
  {
   "cell_type": "markdown",
   "metadata": {},
   "source": [
    "- Derivatif\n",
    "\n",
    "    $\\displaystyle \\frac{dx}{dt} \\ \\ \\frac{\\partial x}{\\partial t}$"
   ]
  },
  {
   "cell_type": "markdown",
   "metadata": {},
   "source": [
    "- Integral\n",
    "\n",
    "    $\\int f(x) \\ dx$\n",
    "    \n",
    "    $\\int_a^b f(x) \\ dx$\n",
    "    \n",
    "    $\\iint f(x, y) \\ dx \\ dy$\n",
    "    \n",
    "    $\\iiint f(x, y, z) \\ dx \\ dy \\ dz$"
   ]
  },
  {
   "cell_type": "markdown",
   "metadata": {},
   "source": [
    "### Example"
   ]
  },
  {
   "cell_type": "markdown",
   "metadata": {},
   "source": [
    "- Rumus lingkaran\n",
    "    - Luas area = $\\pi r ^ 2$\n",
    "    - Keliling = $2 \\pi r$"
   ]
  },
  {
   "cell_type": "markdown",
   "metadata": {},
   "source": [
    "- Phytagoras\n",
    "\n",
    "    $c^2 = a^2 + b^2$\n",
    "    \n",
    "    $c = \\sqrt{a^2 + b^2}$"
   ]
  },
  {
   "cell_type": "markdown",
   "metadata": {},
   "source": [
    "- Trigonometri\n",
    "\n",
    "    $\\sin(A-B) = \\sin(A) \\cos(B) - \\cos(A) \\sin(B)$\n",
    "    \n",
    "    $\\tan(A-B) = \\frac {\\tan(A) - \\tan(B)} {1 + \\tan(A) \\tan(B)}$"
   ]
  },
  {
   "cell_type": "markdown",
   "metadata": {},
   "source": [
    "- Operasi Matriks\n",
    "\n",
    "    $\n",
    "    \\det{\n",
    "    \\begin{bmatrix}\n",
    "    a & b \\\\\n",
    "    c & d\n",
    "    \\end{bmatrix}\n",
    "    }\n",
    "    = ad - bc\n",
    "    $"
   ]
  },
  {
   "cell_type": "code",
   "execution_count": null,
   "metadata": {},
   "outputs": [],
   "source": []
  }
 ],
 "metadata": {
  "kernelspec": {
   "display_name": "Python 3",
   "language": "python",
   "name": "python3"
  },
  "language_info": {
   "codemirror_mode": {
    "name": "ipython",
    "version": 3
   },
   "file_extension": ".py",
   "mimetype": "text/x-python",
   "name": "python",
   "nbconvert_exporter": "python",
   "pygments_lexer": "ipython3",
   "version": "3.7.1"
  }
 },
 "nbformat": 4,
 "nbformat_minor": 4
}
